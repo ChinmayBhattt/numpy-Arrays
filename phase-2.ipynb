{
 "cells": [
  {
   "cell_type": "markdown",
   "id": "464e3db7",
   "metadata": {},
   "source": [
    "### Numpy Array Operations "
   ]
  },
  {
   "cell_type": "code",
   "execution_count": 1,
   "id": "d843c6db",
   "metadata": {},
   "outputs": [],
   "source": [
    "import numpy as np "
   ]
  },
  {
   "cell_type": "code",
   "execution_count": 11,
   "id": "079be7e5",
   "metadata": {},
   "outputs": [
    {
     "name": "stdout",
     "output_type": "stream",
     "text": [
      "Basic Slicing:  [3 4 5 6 7]\n",
      "With Step:  [2 4 6 8]\n",
      "Negative Indexing :  8\n"
     ]
    }
   ],
   "source": [
    "arr = np.array([1, 2, 3, 4, 5, 6, 7, 8, 9, 10])\n",
    "# arr = np.arange(10)\n",
    "print(\"Basic Slicing: \", arr[2:7])\n",
    "print(\"With Step: \", arr[1:8:2])\n",
    "print(\"Negative Indexing : \", arr[-3])"
   ]
  },
  {
   "cell_type": "code",
   "execution_count": 25,
   "id": "b7260873",
   "metadata": {},
   "outputs": [
    {
     "name": "stdout",
     "output_type": "stream",
     "text": [
      "Specific Element:  6\n",
      "Entire Row:  [1 2 3]\n",
      "Entire Row:  [4 5 6]\n",
      "Entire Row:  [7 8 9]\n",
      "Entire colm:  [2 5 8]\n"
     ]
    }
   ],
   "source": [
    "arr_2d = np.array([[1,2,3], # 0 row [1,2,3] => 0, 1, 2\n",
    "                   [4,5,6], # 1 row\n",
    "                   [7,8,9]]) # 2 row\n",
    "print(\"Specific Element: \", arr_2d[1, 2])\n",
    "print(\"Entire Row: \", arr_2d[0]) # first entire row [1,2,3]\n",
    "print(\"Entire Row: \", arr_2d[1])# second entire row [3,4,5]\n",
    "print(\"Entire Row: \", arr_2d[2])\n",
    "print(\"Entire colm: \", arr_2d[:, 1]) # second enitre colm"
   ]
  },
  {
   "cell_type": "markdown",
   "id": "33bc247f",
   "metadata": {},
   "source": [
    "### Sorting"
   ]
  },
  {
   "cell_type": "code",
   "execution_count": 26,
   "id": "558eff55",
   "metadata": {},
   "outputs": [
    {
     "ename": "TypeError",
     "evalue": "only integer scalar arrays can be converted to a scalar index",
     "output_type": "error",
     "traceback": [
      "\u001b[0;31m---------------------------------------------------------------------------\u001b[0m",
      "\u001b[0;31mTypeError\u001b[0m                                 Traceback (most recent call last)",
      "Cell \u001b[0;32mIn[26], line 2\u001b[0m\n\u001b[1;32m      1\u001b[0m unsorted \u001b[38;5;241m=\u001b[39m np\u001b[38;5;241m.\u001b[39marray([\u001b[38;5;241m3\u001b[39m,\u001b[38;5;241m5\u001b[39m,\u001b[38;5;241m1\u001b[39m,\u001b[38;5;241m2\u001b[39m,\u001b[38;5;241m7\u001b[39m,\u001b[38;5;241m4\u001b[39m,\u001b[38;5;241m8\u001b[39m,\u001b[38;5;241m9\u001b[39m,\u001b[38;5;241m6\u001b[39m])\n\u001b[0;32m----> 2\u001b[0m \u001b[38;5;28mprint\u001b[39m(\u001b[38;5;124m\"\u001b[39m\u001b[38;5;124mSorted Array: \u001b[39m\u001b[38;5;124m\"\u001b[39m, \u001b[43marr\u001b[49m\u001b[38;5;241;43m.\u001b[39;49m\u001b[43msort\u001b[49m\u001b[43m(\u001b[49m\u001b[43munsorted\u001b[49m\u001b[43m)\u001b[49m)\n",
      "\u001b[0;31mTypeError\u001b[0m: only integer scalar arrays can be converted to a scalar index"
     ]
    }
   ],
   "source": [
    "unsorted = np.array([3,5,1,2,7,4,8,9,6])\n",
    "print(\"Sorted Array: \", arr.sort(unsorted))"
   ]
  }
 ],
 "metadata": {
  "kernelspec": {
   "display_name": "Python 3",
   "language": "python",
   "name": "python3"
  },
  "language_info": {
   "codemirror_mode": {
    "name": "ipython",
    "version": 3
   },
   "file_extension": ".py",
   "mimetype": "text/x-python",
   "name": "python",
   "nbconvert_exporter": "python",
   "pygments_lexer": "ipython3",
   "version": "3.11.4"
  }
 },
 "nbformat": 4,
 "nbformat_minor": 5
}
