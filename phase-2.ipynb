{
 "cells": [
  {
   "cell_type": "markdown",
   "id": "464e3db7",
   "metadata": {},
   "source": [
    "### Numpy Array Operations "
   ]
  },
  {
   "cell_type": "code",
   "execution_count": 1,
   "id": "d843c6db",
   "metadata": {},
   "outputs": [],
   "source": [
    "import numpy as np "
   ]
  },
  {
   "cell_type": "code",
   "execution_count": 2,
   "id": "079be7e5",
   "metadata": {},
   "outputs": [
    {
     "name": "stdout",
     "output_type": "stream",
     "text": [
      "Basic Slicing:  [3 4 5 6 7]\n",
      "With Step:  [2 4 6 8]\n",
      "Negative Indexing :  8\n"
     ]
    }
   ],
   "source": [
    "arr = np.array([1, 2, 3, 4, 5, 6, 7, 8, 9, 10])\n",
    "# arr = np.arange(10)\n",
    "print(\"Basic Slicing: \", arr[2:7])\n",
    "print(\"With Step: \", arr[1:8:2])\n",
    "print(\"Negative Indexing : \", arr[-3])"
   ]
  },
  {
   "cell_type": "code",
   "execution_count": 6,
   "id": "b7260873",
   "metadata": {},
   "outputs": [
    {
     "name": "stdout",
     "output_type": "stream",
     "text": [
      "Specific Element:  6\n",
      "Entire Row:  [1 2 3]\n",
      "Entire Row:  [4 5 6]\n",
      "Entire Row:  [7 8 9]\n",
      "Entire colm:  [2 5 8]\n"
     ]
    }
   ],
   "source": [
    "arr_2d = np.array([[1,2,3], # 0 row [1,2,3] => 0, 1, 2\n",
    "                   [4,5,6], # 1 row\n",
    "                   [7,8,9]]) # 2 row\n",
    "print(\"Specific Element: \", arr_2d[1, 2])\n",
    "print(\"Entire Row: \", arr_2d[0]) # first entire row [1,2,3]\n",
    "print(\"Entire Row: \", arr_2d[1])# second entire row [3,4,5]\n",
    "print(\"Entire Row: \", arr_2d[2])\n",
    "print(\"Entire colm: \", arr_2d[:, 1]) # second enitre colm"
   ]
  },
  {
   "cell_type": "markdown",
   "id": "33bc247f",
   "metadata": {},
   "source": [
    "### Sorting"
   ]
  },
  {
   "cell_type": "code",
   "execution_count": 7,
   "id": "558eff55",
   "metadata": {},
   "outputs": [
    {
     "name": "stdout",
     "output_type": "stream",
     "text": [
      "Sorted Array:  [1 2 3 4 5 6 7 8 9]\n",
      "\n",
      "2D Array Sorted: \n",
      " [[ 1  3]\n",
      " [ 2  4]\n",
      " [ 3 21]]\n"
     ]
    }
   ],
   "source": [
    "unsorted = np.array([3,5,1,2,7,4,8,9,6])\n",
    "sorted_array = np.sort(unsorted)\n",
    "print(\"Sorted Array: \", sorted_array)\n",
    "\n",
    "arr_2d_unsorted = np.array([[3,1], [4, 2], [21, 3]])\n",
    "arr_2d_sorted = np.sort(arr_2d_unsorted, axis=1)\n",
    "print(\"\\n2D Array Sorted: \\n\", arr_2d_sorted)"
   ]
  },
  {
   "cell_type": "markdown",
   "id": "8f5d3bac",
   "metadata": {},
   "source": [
    "### Filter"
   ]
  },
  {
   "cell_type": "code",
   "execution_count": 8,
   "id": "451ff160",
   "metadata": {},
   "outputs": [
    {
     "name": "stdout",
     "output_type": "stream",
     "text": [
      "even Numbers:  [ 2  4  6  8 10]\n"
     ]
    }
   ],
   "source": [
    "numbers = np.array([1, 2, 3, 4, 5, 6, 7, 8, 9, 10])\n",
    "even_numbers = numbers[numbers % 2 == 0]\n",
    "print(\"even Numbers: \", even_numbers)"
   ]
  },
  {
   "cell_type": "markdown",
   "id": "bce9ddc5",
   "metadata": {},
   "source": [
    "### Filter With Mask"
   ]
  },
  {
   "cell_type": "code",
   "execution_count": 9,
   "id": "0e893e8d",
   "metadata": {},
   "outputs": [
    {
     "name": "stdout",
     "output_type": "stream",
     "text": [
      "Number greator than 5  [ 6  7  8  9 10]\n"
     ]
    }
   ],
   "source": [
    "mask = numbers > 5\n",
    "print(\"Number greator than 5 \", numbers[mask])"
   ]
  },
  {
   "cell_type": "markdown",
   "id": "0e3bcb5e",
   "metadata": {},
   "source": [
    "### Fancy Indexing Vs np.where()"
   ]
  },
  {
   "cell_type": "code",
   "execution_count": 36,
   "id": "3452edef",
   "metadata": {},
   "outputs": [
    {
     "name": "stdout",
     "output_type": "stream",
     "text": [
      "numbers:  [1 3 5]\n",
      "Numpy Results:  [ 6  7  8  9 10]\n",
      "Conditon Array:  [ 1  2  3  4  5 12 14 16 18 20]\n"
     ]
    }
   ],
   "source": [
    "indieces = [0, 2, 4]\n",
    "print(\"numbers: \", numbers[indieces])\n",
    "\n",
    "where_results = np.where(numbers > 5)\n",
    "print(\"Numpy Results: \", numbers[where_results])\n",
    "# np.where() : where also is array but specific conditions\n",
    "\n",
    "condition_array = np.array = np.where(numbers > 5, numbers*2, numbers)\n",
    "# condition_array = np.array = np.where(numbers > 5, numbers*1, numbers)\n",
    "# condition_array = np.array = np.where(numbers > 5, numbers, numbers)\n",
    "print(\"Conditon Array: \", condition_array)\n"
   ]
  },
  {
   "cell_type": "code",
   "execution_count": 41,
   "id": "0d390d06",
   "metadata": {},
   "outputs": [
    {
     "ename": "ValueError",
     "evalue": "The truth value of an array with more than one element is ambiguous. Use a.any() or a.all()",
     "output_type": "error",
     "traceback": [
      "\u001b[0;31m---------------------------------------------------------------------------\u001b[0m",
      "\u001b[0;31mValueError\u001b[0m                                Traceback (most recent call last)",
      "Cell \u001b[0;32mIn[41], line 9\u001b[0m\n\u001b[1;32m      1\u001b[0m \u001b[38;5;66;03m# ---------------- or ----------------\u001b[39;00m\n\u001b[1;32m      2\u001b[0m \u001b[38;5;66;03m# if (numbers > 5) {\u001b[39;00m\n\u001b[1;32m      3\u001b[0m \u001b[38;5;66;03m#     numbers * 4\u001b[39;00m\n\u001b[0;32m   (...)\u001b[0m\n\u001b[1;32m      6\u001b[0m \u001b[38;5;66;03m#     numbers\u001b[39;00m\n\u001b[1;32m      7\u001b[0m \u001b[38;5;66;03m# }\u001b[39;00m\n\u001b[0;32m----> 9\u001b[0m \u001b[38;5;28;01mif\u001b[39;00m (numbers \u001b[38;5;241m>\u001b[39m \u001b[38;5;241m5\u001b[39m):\n\u001b[1;32m     10\u001b[0m     \u001b[38;5;28mprint\u001b[39m(numbers \u001b[38;5;241m*\u001b[39m \u001b[38;5;241m4\u001b[39m)\n\u001b[1;32m     11\u001b[0m \u001b[38;5;28;01melse\u001b[39;00m:\n",
      "\u001b[0;31mValueError\u001b[0m: The truth value of an array with more than one element is ambiguous. Use a.any() or a.all()"
     ]
    }
   ],
   "source": [
    "# ---------------- or ----------------\n",
    "# if (numbers > 5) {\n",
    "#     numbers * 4\n",
    "# }\n",
    "# else {\n",
    "#     numbers\n",
    "# }\n"
   ]
  }
 ],
 "metadata": {
  "kernelspec": {
   "display_name": "Python 3",
   "language": "python",
   "name": "python3"
  },
  "language_info": {
   "codemirror_mode": {
    "name": "ipython",
    "version": 3
   },
   "file_extension": ".py",
   "mimetype": "text/x-python",
   "name": "python",
   "nbconvert_exporter": "python",
   "pygments_lexer": "ipython3",
   "version": "3.11.4"
  }
 },
 "nbformat": 4,
 "nbformat_minor": 5
}
