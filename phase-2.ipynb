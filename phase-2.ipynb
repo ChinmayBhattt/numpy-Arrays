{
 "cells": [
  {
   "cell_type": "markdown",
   "id": "464e3db7",
   "metadata": {},
   "source": [
    "### Numpy Array Operations "
   ]
  },
  {
   "cell_type": "code",
   "execution_count": 1,
   "id": "d843c6db",
   "metadata": {},
   "outputs": [],
   "source": [
    "import numpy as np "
   ]
  },
  {
   "cell_type": "code",
   "execution_count": 2,
   "id": "079be7e5",
   "metadata": {},
   "outputs": [
    {
     "name": "stdout",
     "output_type": "stream",
     "text": [
      "Basic Slicing:  [3 4 5 6 7]\n",
      "With Step:  [2 4 6 8]\n",
      "Negative Indexing :  8\n"
     ]
    }
   ],
   "source": [
    "arr = np.array([1, 2, 3, 4, 5, 6, 7, 8, 9, 10])\n",
    "# arr = np.arange(10)\n",
    "print(\"Basic Slicing: \", arr[2:7])\n",
    "print(\"With Step: \", arr[1:8:2])\n",
    "print(\"Negative Indexing : \", arr[-3])"
   ]
  },
  {
   "cell_type": "code",
   "execution_count": 37,
   "id": "b7260873",
   "metadata": {},
   "outputs": [
    {
     "name": "stdout",
     "output_type": "stream",
     "text": [
      "Specific Element:  6\n",
      "Entire Row:  [1 2 3]\n",
      "Entire Row:  [4 5 6]\n",
      "Entire Row:  [7 8 9]\n",
      "Entire colm:  [2 5 8]\n"
     ]
    }
   ],
   "source": [
    "arr_2d = np.array([[1,2,3], # 0 row [1,2,3] => 0, 1, 2\n",
    "                   [4,5,6], # 1 row\n",
    "                   [7,8,9]]) # 2 row\n",
    "print(\"Specific Element: \", arr_2d[1, 2])\n",
    "print(\"Entire Row: \", arr_2d[0]) # first entire row [1,2,3]\n",
    "print(\"Entire Row: \", arr_2d[1])# second entire row [3,4,5]\n",
    "print(\"Entire Row: \", arr_2d[2])\n",
    "print(\"Entire colm: \", arr_2d[:, 1]) # second enitre colm"
   ]
  },
  {
   "cell_type": "markdown",
   "id": "33bc247f",
   "metadata": {},
   "source": [
    "### Sorting"
   ]
  },
  {
   "cell_type": "code",
   "execution_count": 7,
   "id": "558eff55",
   "metadata": {},
   "outputs": [
    {
     "name": "stdout",
     "output_type": "stream",
     "text": [
      "Sorted Array:  [1 2 3 4 5 6 7 8 9]\n",
      "\n",
      "2D Array Sorted: \n",
      " [[ 1  3]\n",
      " [ 2  4]\n",
      " [ 3 21]]\n"
     ]
    }
   ],
   "source": [
    "unsorted = np.array([3,5,1,2,7,4,8,9,6])\n",
    "sorted_array = np.sort(unsorted)\n",
    "print(\"Sorted Array: \", sorted_array)\n",
    "\n",
    "arr_2d_unsorted = np.array([[3,1], [4, 2], [21, 3]])\n",
    "arr_2d_sorted = np.sort(arr_2d_unsorted, axis=1)\n",
    "print(\"\\n2D Array Sorted: \\n\", arr_2d_sorted)"
   ]
  },
  {
   "cell_type": "markdown",
   "id": "8f5d3bac",
   "metadata": {},
   "source": [
    "### Filter"
   ]
  },
  {
   "cell_type": "code",
   "execution_count": 8,
   "id": "451ff160",
   "metadata": {},
   "outputs": [
    {
     "name": "stdout",
     "output_type": "stream",
     "text": [
      "even Numbers:  [ 2  4  6  8 10]\n"
     ]
    }
   ],
   "source": [
    "numbers = np.array([1, 2, 3, 4, 5, 6, 7, 8, 9, 10])\n",
    "even_numbers = numbers[numbers % 2 == 0]\n",
    "print(\"even Numbers: \", even_numbers)"
   ]
  },
  {
   "cell_type": "markdown",
   "id": "bce9ddc5",
   "metadata": {},
   "source": [
    "### Filter With Mask"
   ]
  },
  {
   "cell_type": "code",
   "execution_count": 9,
   "id": "0e893e8d",
   "metadata": {},
   "outputs": [
    {
     "name": "stdout",
     "output_type": "stream",
     "text": [
      "Number greator than 5  [ 6  7  8  9 10]\n"
     ]
    }
   ],
   "source": [
    "mask = numbers > 5\n",
    "print(\"Number greator than 5 \", numbers[mask])"
   ]
  },
  {
   "cell_type": "markdown",
   "id": "0e3bcb5e",
   "metadata": {},
   "source": [
    "### Fancy Indexing Vs np.where()"
   ]
  },
  {
   "cell_type": "code",
   "execution_count": 11,
   "id": "3452edef",
   "metadata": {},
   "outputs": [
    {
     "name": "stdout",
     "output_type": "stream",
     "text": [
      "numbers:  [1 3 5]\n",
      "Numpy Results:  [ 6  7  8  9 10]\n",
      "Conditon Array:  ['false' 'false' 'false' 'false' 'false' 'true' 'true' 'true' 'true'\n",
      " 'true']\n"
     ]
    }
   ],
   "source": [
    "indieces = [0, 2, 4]\n",
    "print(\"numbers: \", numbers[indieces])\n",
    "\n",
    "where_results = np.where(numbers > 5)\n",
    "print(\"Numpy Results: \", numbers[where_results])\n",
    "# np.where() : where also is array but specific conditions\n",
    "\n",
    "# condition_array = np.array = np.where(numbers > 5, numbers*2, numbers)\n",
    "condition_array = np.array = np.where(numbers > 5, \"true\", \"false\")\n",
    "# condition_array = np.array = np.where(numbers > 5, numbers*1, numbers)\n",
    "# condition_array = np.array = np.where(numbers > 5, numbers, numbers)\n",
    "print(\"Conditon Array: \", condition_array)\n"
   ]
  },
  {
   "cell_type": "code",
   "execution_count": 1,
   "id": "0d390d06",
   "metadata": {},
   "outputs": [],
   "source": [
    "# ---------------- or ----------------\n",
    "# if (numbers > 5) {\n",
    "#     numbers * 4\n",
    "# }\n",
    "# else {\n",
    "#     numbers\n",
    "# }\n"
   ]
  },
  {
   "cell_type": "markdown",
   "id": "09706ae0",
   "metadata": {},
   "source": [
    "### Adding and Removing Data"
   ]
  },
  {
   "cell_type": "code",
   "execution_count": 27,
   "id": "ac6c4d24",
   "metadata": {},
   "outputs": [
    {
     "name": "stdout",
     "output_type": "stream",
     "text": [
      "[1 2 3 4 5 6]\n"
     ]
    }
   ],
   "source": [
    "arr1 = np.array([1, 2, 3])\n",
    "arr2 = np.array([4, 5, 6])\n",
    "\n",
    "# combined = arr1 + arr2\n",
    "combined = np.concatenate((arr1, arr2))\n",
    "\n",
    "print(combined)\n"
   ]
  },
  {
   "cell_type": "markdown",
   "id": "05a0834e",
   "metadata": {},
   "source": [
    "### Array Compatibility"
   ]
  },
  {
   "cell_type": "code",
   "execution_count": 34,
   "id": "97e19e6c",
   "metadata": {},
   "outputs": [
    {
     "name": "stdout",
     "output_type": "stream",
     "text": [
      "Compatibility Shapes:  False\n"
     ]
    }
   ],
   "source": [
    "a = np.array([1, 2, 3])\n",
    "# b = np.array([4, 5, 6])\n",
    "b = np.array([4, 5, 6, 7])\n",
    "c = np.array([7, 8, 9])\n",
    "\n",
    "print(\"Compatibility Shapes: \", a.shape == b.shape)"
   ]
  },
  {
   "cell_type": "code",
   "execution_count": 12,
   "id": "25abd4a6",
   "metadata": {},
   "outputs": [
    {
     "name": "stdout",
     "output_type": "stream",
     "text": [
      "[[1 2]\n",
      " [3 4]] \n",
      "\n",
      "[[1 2]\n",
      " [3 4]\n",
      " [5 6]]\n",
      "\n",
      "vstack Colm\n",
      "\n",
      "[[1 2 7]\n",
      " [3 4 8]]\n"
     ]
    }
   ],
   "source": [
    "original = np.array([[1, 2], [3, 4]])\n",
    "new_row = np.array([5, 6])\n",
    "# vstack always add row\n",
    "with_new_row = np.vstack((original, new_row))\n",
    "print(original, \"\\n\")\n",
    "print(with_new_row)\n",
    "\n",
    "print(\"\\nvstack Colm\\n\")\n",
    "\n",
    "# new_col = np.array([[1,7], [2,8]])\n",
    "new_col = np.array([[7], [8]])\n",
    "# with_new_col = np.hstack((new_col))\n",
    "with_new_col = np.hstack((original,new_col))\n",
    "print(with_new_col)"
   ]
  },
  {
   "cell_type": "code",
   "execution_count": 25,
   "id": "bcacf725",
   "metadata": {},
   "outputs": [
    {
     "name": "stdout",
     "output_type": "stream",
     "text": [
      "Array Before Deleted:  [1 2 3 4 5 6 7]\n",
      "Array After Deleted:  [1 3 4 5 6 7]\n"
     ]
    }
   ],
   "source": [
    "arr = np.array([1,2,3,4,5,6,7])\n",
    "print(\"Array Before Deleted: \",arr)\n",
    "deleted = np.delete(arr, 1)\n",
    "print(\"Array After Deleted: \",deleted)\n",
    "# deleted = np.delete(arr, 1)\n",
    "# deleted1 = np.delete(arr, 2)\n",
    "# deleted2 = np.delete(arr, 3)\n",
    "# print(deleted,deleted1,deleted2)\n",
    "# deleted = np.delete(arr, arr[0])\n",
    "# deleted1 = np.delete(arr, arr[1])\n",
    "# deleted2 = np.delete(arr, arr[2])\n",
    "# print(deleted,deleted1,deleted2)"
   ]
  }
 ],
 "metadata": {
  "kernelspec": {
   "display_name": "Python 3",
   "language": "python",
   "name": "python3"
  },
  "language_info": {
   "codemirror_mode": {
    "name": "ipython",
    "version": 3
   },
   "file_extension": ".py",
   "mimetype": "text/x-python",
   "name": "python",
   "nbconvert_exporter": "python",
   "pygments_lexer": "ipython3",
   "version": "3.11.4"
  }
 },
 "nbformat": 4,
 "nbformat_minor": 5
}
