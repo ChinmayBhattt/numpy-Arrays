{
 "cells": [
  {
   "cell_type": "markdown",
   "id": "f3f5493f",
   "metadata": {},
   "source": [
    "### Revision"
   ]
  },
  {
   "cell_type": "code",
   "execution_count": 1,
   "id": "3aec4494",
   "metadata": {},
   "outputs": [],
   "source": [
    "import numpy as np"
   ]
  },
  {
   "cell_type": "code",
   "execution_count": 36,
   "id": "9b95d3f0",
   "metadata": {},
   "outputs": [
    {
     "name": "stdout",
     "output_type": "stream",
     "text": [
      "[[0. 0. 0.]\n",
      " [0. 0. 0.]\n",
      " [0. 0. 0.]] \n",
      "\n",
      "[[1. 1. 1.]\n",
      " [1. 1. 1.]\n",
      " [1. 1. 1.]] \n",
      "\n",
      "[[7 7 7 7]\n",
      " [7 7 7 7]\n",
      " [7 7 7 7]] \n",
      "\n",
      "[[0.30290822 0.46259649 0.78461035]\n",
      " [0.88364132 0.79033817 0.82445864]\n",
      " [0.70162525 0.25797476 0.57645779]] \n",
      "\n"
     ]
    }
   ],
   "source": [
    "arr = np.array([1,2,3])\n",
    "# print(arr)\n",
    "\n",
    "arr2 = np.array(([1,2,3],[4,5,6],[7,8,9]))\n",
    "# print(arr2,\"\\n\")\n",
    "\n",
    "# for i in arr2:\n",
    "#     print(i)\n",
    "\n",
    "# print(\"\\nSqare of arr: \\n\", arr2 * 2)\n",
    "\n",
    "transposeArray = arr2.T\n",
    "# print(transposeArray)\n",
    "\n",
    "\n",
    "zeroArray = np.zeros([3,3])\n",
    "print(zeroArray, \"\\n\")\n",
    "\n",
    "onesArray = np.ones((3,3))\n",
    "print(onesArray, \"\\n\")\n",
    "\n",
    "allArrayElement = np.full((3,4), 7)\n",
    "print(allArrayElement, \"\\n\")\n",
    "\n",
    "randomeArray = np.random.random(((3,3)))\n",
    "print(randomeArray, \"\\n\")"
   ]
  },
  {
   "cell_type": "code",
   "execution_count": 46,
   "id": "a6779e2c",
   "metadata": {},
   "outputs": [
    {
     "name": "stdout",
     "output_type": "stream",
     "text": [
      "[0 2 4 6 8]\n"
     ]
    }
   ],
   "source": [
    "# arrRange = np.arange(0, 10+1)\n",
    "arrRange = np.arange(0, 10, 2)\n",
    "# print(arrRange + 1)\n",
    "print(arrRange )"
   ]
  },
  {
   "cell_type": "code",
   "execution_count": null,
   "id": "e126e97a",
   "metadata": {},
   "outputs": [],
   "source": [
    "matrixArray = np."
   ]
  }
 ],
 "metadata": {
  "kernelspec": {
   "display_name": "Python 3",
   "language": "python",
   "name": "python3"
  },
  "language_info": {
   "codemirror_mode": {
    "name": "ipython",
    "version": 3
   },
   "file_extension": ".py",
   "mimetype": "text/x-python",
   "name": "python",
   "nbconvert_exporter": "python",
   "pygments_lexer": "ipython3",
   "version": "3.11.4"
  }
 },
 "nbformat": 4,
 "nbformat_minor": 5
}
