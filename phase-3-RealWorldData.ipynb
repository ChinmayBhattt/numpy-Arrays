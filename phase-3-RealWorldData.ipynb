{
 "cells": [
  {
   "cell_type": "code",
   "execution_count": 5,
   "id": "d5060bb3",
   "metadata": {},
   "outputs": [],
   "source": [
    "import numpy as np\n",
    "import matplotlib.pyplot as plt"
   ]
  },
  {
   "cell_type": "code",
   "execution_count": 6,
   "id": "8b427abf",
   "metadata": {},
   "outputs": [
    {
     "name": "stdout",
     "output_type": "stream",
     "text": [
      "=== Zomoto sales anaylsis ===\n"
     ]
    }
   ],
   "source": [
    "# Data Structure: [resturant_id, 2021, 2022, 2023, 2024]\n",
    "sales_data = np.array([\n",
    "    [1,150000, 180000, 220000, 250000], # Paradise Biryani\n",
    "    [2,120000, 140000, 160000, 190000], # Bhejing Bites\n",
    "    [3,200000, 230000, 260000, 300000], # Pizza Hub\n",
    "    [4,180000, 210000, 240000, 270000], # Burger Point\n",
    "    [5,160000, 180000, 205000, 230000], # Chai Point\n",
    "])\n",
    "print(\"=== Zomoto sales anaylsis ===\")"
   ]
  }
 ],
 "metadata": {
  "kernelspec": {
   "display_name": "Python 3",
   "language": "python",
   "name": "python3"
  },
  "language_info": {
   "codemirror_mode": {
    "name": "ipython",
    "version": 3
   },
   "file_extension": ".py",
   "mimetype": "text/x-python",
   "name": "python",
   "nbconvert_exporter": "python",
   "pygments_lexer": "ipython3",
   "version": "3.11.4"
  }
 },
 "nbformat": 4,
 "nbformat_minor": 5
}
