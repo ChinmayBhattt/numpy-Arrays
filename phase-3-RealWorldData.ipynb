{
 "cells": [
  {
   "cell_type": "code",
   "execution_count": 1,
   "id": "d5060bb3",
   "metadata": {},
   "outputs": [],
   "source": [
    "import numpy as np\n",
    "import matplotlib.pyplot as plt"
   ]
  },
  {
   "cell_type": "code",
   "execution_count": 3,
   "id": "8b427abf",
   "metadata": {},
   "outputs": [
    {
     "name": "stdout",
     "output_type": "stream",
     "text": [
      "=== Zomoto sales analysis ===\n",
      "\n",
      " Sales Data Shape:  (5, 5)\n",
      "\n",
      "Sample Data for 1st 3 Resturant: \n",
      " [[150000 180000 220000 250000]\n",
      " [120000 140000 160000 190000]\n",
      " [200000 230000 260000 300000]\n",
      " [180000 210000 240000 270000]\n",
      " [160000 180000 205000 230000]]\n",
      "\n",
      "Sample Data for 1st 3 Resturant: \n",
      " [[150000 180000 220000 250000]\n",
      " [120000 140000 160000 190000]\n",
      " [200000 230000 260000 300000]\n",
      " [180000 210000 240000 270000]\n",
      " [160000 180000 205000 230000]]\n"
     ]
    }
   ],
   "source": [
    "# Data Structure: [resturant_id, 2021, 2022, 2023, 2024]\n",
    "sales_data = np.array([\n",
    "    [1,150000, 180000, 220000, 250000], # Paradise Biryani\n",
    "    [2,120000, 140000, 160000, 190000], # Bhejing Bites\n",
    "    [3,200000, 230000, 260000, 300000], # Pizza Hub\n",
    "    [4,180000, 210000, 240000, 270000], # Burger Point\n",
    "    [5,160000, 180000, 205000, 230000], # Chai Point\n",
    "])\n",
    "print(\"=== Zomoto sales analysis ===\")\n",
    "print(\"\\n Sales Data Shape: \", sales_data.shape)\n",
    "print(\"\\nSample Data for 1st 3 Resturant: \\n\",sales_data[:,1:])\n",
    "print(\"\\nSample Data for 1st 3 Resturant: \\n\",sales_data[:,1:5])\n",
    "# print(\"\\nSample Data for 1st 3 Resturant: \\n\",sales_data[:3])\n",
    "# print(\"\\nSample Data for 1st 3 Resturant: \\n\",sales_data[0:3])\n",
    "# print(\"\\nSample Data for 1st 3 Resturant: \",sales_data[3])"
   ]
  },
  {
   "cell_type": "code",
   "execution_count": null,
   "id": "96b88857",
   "metadata": {},
   "outputs": [
    {
     "name": "stdout",
     "output_type": "stream",
     "text": [
      "[     15  810000  940000 1085000 1240000]\n",
      "[ 810000  940000 1085000 1240000]\n"
     ]
    }
   ],
   "source": [
    "# Total Sales per year\n",
    "# print(sales_data[0:3, 0:5])\n",
    "print(np.sum(sales_data, axis=0))\n",
    "yearly_total = np.sum(sales_data[:, 1:], axis=0)\n",
    "\n",
    "# total_sales = np.sum(sales_data[:, 1:], axis=0)\n",
    "# print(\"\\nTotal Sales per Year (2021 to 2024): \", total_sales)"
   ]
  },
  {
   "cell_type": "code",
   "execution_count": null,
   "id": "c2e7979b",
   "metadata": {},
   "outputs": [],
   "source": [
    "# --------Easy Example-----------\n",
    "# for i in sales_data[0:3,1:5]:\n",
    "#     print(i)\n",
    "\n",
    "# print(sales_data[0:3,0:3])\n",
    "\n",
    "# print(\"Shaped: \", sales_data.shape)\n",
    "# for i in sales_data:\n",
    "#     print(i)\n",
    "\n",
    "# for i in range(5):\n",
    "#     print(sales_data[i])\n",
    "# print(sales_data[2:4])"
   ]
  },
  {
   "cell_type": "code",
   "execution_count": null,
   "id": "1f876940",
   "metadata": {},
   "outputs": [],
   "source": [
    "# --------Easy Example-----------\n",
    "# sales_data = np.array([\n",
    "#     [10, 20, 30],\n",
    "#     [40, 50, 60],\n",
    "#     [70, 80, 90]\n",
    "# ])\n",
    "# print(10 + 20 + 30 + 40 + 50 + 60+ 70 + 80 + 90)\n",
    "# print(np.sum(sales_data)) # same \n",
    "# print(np.sum(sales_data, axis=0))\n",
    "# print(np.sum(sales_data, axis=1))\n",
    "# print(np.sum(sales_data[1:2,0:3]))\n",
    "\n",
    "# axis=0 → columns remain, rows combine (top to bottom sum)\n",
    "# axis=1 → rows remain, columns combine (left to right sum)\n"
   ]
  },
  {
   "cell_type": "code",
   "execution_count": 20,
   "id": "30381d97",
   "metadata": {},
   "outputs": [
    {
     "name": "stdout",
     "output_type": "stream",
     "text": [
      "[200000. 152500. 247500. 225000. 193750.]\n"
     ]
    }
   ],
   "source": [
    "#Minimum Sales per Year\n",
    "min_sales = np.min(sales_data[:,0:], axis=0)\n",
    "# print(min_sales)\n",
    "#Maximum Sales per Year\n",
    "max_sales = np.max(sales_data[:,0:], axis=0)\n",
    "# print(max_sales)\n",
    "\n",
    "#Average Sales Per Restaurant\n",
    "\n",
    "avg_sales = np.mean(sales_data[:,1:], axis=1)\n",
    "print(avg_sales)"
   ]
  },
  {
   "cell_type": "code",
   "execution_count": 33,
   "id": "8d383f4e",
   "metadata": {},
   "outputs": [
    {
     "name": "stdout",
     "output_type": "stream",
     "text": [
      "[20. 50. 80.]\n"
     ]
    }
   ],
   "source": [
    "# Mean = Total number of values/Sum of all numbers\n",
    "#Let’s say you have these numbers:\n",
    "# 4, 8, 6, 10, 12\n",
    "# Step 1: Add all the numbers:\n",
    "# 4 + 8 + 6 + 10 + 12 = 40\n",
    "# Step 2: Count how many numbers there are:\n",
    "# 5 numbers\n",
    "# Step 3: Divide the total by the number of values:\n",
    "# Mean = 40/5 = 8\n",
    "sales_data2 = np.array([\n",
    "    [10, 20, 30],\n",
    "    [40, 50, 60],\n",
    "    [70, 80, 90]\n",
    "])\n",
    "\n",
    "avg_sales = np.mean(sales_data2[:,0:3], axis=1) # mean = 10 + 20 + 30/3 = 20\n",
    "\n",
    "print(avg_sales)"
   ]
  },
  {
   "cell_type": "code",
   "execution_count": 52,
   "id": "de198322",
   "metadata": {},
   "outputs": [
    {
     "name": "stdout",
     "output_type": "stream",
     "text": [
      "[[ 20  50]\n",
      " [ 50 110]\n",
      " [ 80 170]]\n"
     ]
    },
    {
     "data": {
      "image/png": "[encoded data removed]",
      "text/plain": [
       "<Figure size 400x300 with 1 Axes>"
      ]
     },
     "metadata": {},
     "output_type": "display_data"
    }
   ],
   "source": [
    "# Cumulative Sum\n",
    "\n",
    "cumsum = np.cumsum(sales_data2[:,1:], axis=1)\n",
    "print(cumsum)\n",
    "\n",
    "plt.figure(figsize=(4, 3))\n",
    "plt.plot(np.mean(cumsum, axis=0))\n",
    "plt.title(\"Average Cumulative Sales Accross All Resturant\")\n",
    "plt.xlabel(\"Years\")\n",
    "plt.ylabel(\"Sales\")\n",
    "plt.grid(True)\n",
    "plt.show()"
   ]
  },
  {
   "cell_type": "markdown",
   "id": "177926ad",
   "metadata": {},
   "source": [
    "### Vector Operations"
   ]
  },
  {
   "cell_type": "code",
   "execution_count": 60,
   "id": "0844f253",
   "metadata": {},
   "outputs": [
    {
     "name": "stdout",
     "output_type": "stream",
     "text": [
      "Vector Additon:  [ 7  9 11 13 15]\n",
      "\n",
      " Multiplication vector:  [ 6 14 24 36 50]\n",
      "\n",
      " Dot Product:  130\n",
      "0.26554161733900966\n"
     ]
    }
   ],
   "source": [
    "vector1 = np.array([1,2,3,4,5])\n",
    "vector2 = np.array([6,7,8,9,10])\n",
    "\n",
    "print(\"Vector Additon: \", vector1 + vector2)\n",
    "print(\"\\n Multiplication vector: \", vector1 * vector2)\n",
    "print(\"\\n Dot Product: \",np.dot(vector1,vector2))\n",
    "\n",
    "#if you understand the below line than go to: https://www.pinecone.io/learn/vector-similarity/\n",
    "angle = np.arccos(np.dot(vector1, vector2) / (np.linalg.norm(vector1) * np.linalg.norm(vector2)))\n",
    "print(angle) "
   ]
  },
  {
   "cell_type": "code",
   "execution_count": null,
   "id": "98392065",
   "metadata": {},
   "outputs": [
    {
     "name": "stdout",
     "output_type": "stream",
     "text": [
      "Vectorized Upper ['BIRYANI' 'CHINESE' 'PIZZA' 'BURGER' 'CAFE']\n",
      "[[12500.         15000.         18333.33333333 20833.33333333]\n",
      " [10000.         11666.66666667 13333.33333333 15833.33333333]\n",
      " [16666.66666667 19166.66666667 21666.66666667 25000.        ]\n",
      " [15000.         17500.         20000.         22500.        ]\n",
      " [13333.33333333 15000.         17083.33333333 19166.66666667]]\n"
     ]
    }
   ],
   "source": [
    "resturants_types = np.array(['biryani','chinese','pizza','burger','cafe'])\n",
    "vectorized_upper = np.vectorize(str.upper)\n",
    "# vectorized_upper = np.vectorize(str.capitalize)\n",
    "print(\"Vectorized Upper\",vectorized_upper(resturants_types))"
   ]
  },
  {
   "cell_type": "code",
   "execution_count": 7,
   "id": "99200496",
   "metadata": {},
   "outputs": [
    {
     "name": "stdout",
     "output_type": "stream",
     "text": [
      "[[12500.         15000.         18333.33333333 20833.33333333]\n",
      " [10000.         11666.66666667 13333.33333333 15833.33333333]\n",
      " [16666.66666667 19166.66666667 21666.66666667 25000.        ]\n",
      " [15000.         17500.         20000.         22500.        ]\n",
      " [13333.33333333 15000.         17083.33333333 19166.66666667]]\n"
     ]
    }
   ],
   "source": [
    "monthly_avg = sales_data[:, 1:] / 12 # broadcast: ek ek element ke pass jake operation perform krega\n",
    "\n",
    "print(monthly_avg)"
   ]
  }
 ],
 "metadata": {
  "kernelspec": {
   "display_name": "Python 3",
   "language": "python",
   "name": "python3"
  },
  "language_info": {
   "codemirror_mode": {
    "name": "ipython",
    "version": 3
   },
   "file_extension": ".py",
   "mimetype": "text/x-python",
   "name": "python",
   "nbconvert_exporter": "python",
   "pygments_lexer": "ipython3",
   "version": "3.11.4"
  }
 },
 "nbformat": 4,
 "nbformat_minor": 5
}
