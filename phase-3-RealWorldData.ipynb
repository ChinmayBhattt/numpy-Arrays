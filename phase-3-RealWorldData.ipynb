{
 "cells": [
  {
   "cell_type": "code",
   "execution_count": 2,
   "id": "d5060bb3",
   "metadata": {},
   "outputs": [],
   "source": [
    "import numpy as np\n",
    "import matplotlib.pyplot as plt"
   ]
  },
  {
   "cell_type": "code",
   "execution_count": 3,
   "id": "8b427abf",
   "metadata": {},
   "outputs": [
    {
     "name": "stdout",
     "output_type": "stream",
     "text": [
      "=== Zomoto sales analysis ===\n",
      "\n",
      " Sales Data Shape:  (5, 5)\n",
      "\n",
      "Sample Data for 1st 3 Resturant: \n",
      " [[150000 180000 220000 250000]\n",
      " [120000 140000 160000 190000]\n",
      " [200000 230000 260000 300000]\n",
      " [180000 210000 240000 270000]\n",
      " [160000 180000 205000 230000]]\n",
      "\n",
      "Sample Data for 1st 3 Resturant: \n",
      " [[150000 180000 220000 250000]\n",
      " [120000 140000 160000 190000]\n",
      " [200000 230000 260000 300000]\n",
      " [180000 210000 240000 270000]\n",
      " [160000 180000 205000 230000]]\n"
     ]
    }
   ],
   "source": [
    "# Data Structure: [resturant_id, 2021, 2022, 2023, 2024]\n",
    "sales_data = np.array([\n",
    "    [1,150000, 180000, 220000, 250000], # Paradise Biryani\n",
    "    [2,120000, 140000, 160000, 190000], # Bhejing Bites\n",
    "    [3,200000, 230000, 260000, 300000], # Pizza Hub\n",
    "    [4,180000, 210000, 240000, 270000], # Burger Point\n",
    "    [5,160000, 180000, 205000, 230000], # Chai Point\n",
    "])\n",
    "print(\"=== Zomoto sales analysis ===\")\n",
    "print(\"\\n Sales Data Shape: \", sales_data.shape)\n",
    "print(\"\\nSample Data for 1st 3 Resturant: \\n\",sales_data[:,1:])\n",
    "print(\"\\nSample Data for 1st 3 Resturant: \\n\",sales_data[:,1:5])\n",
    "# print(\"\\nSample Data for 1st 3 Resturant: \\n\",sales_data[:3])\n",
    "# print(\"\\nSample Data for 1st 3 Resturant: \\n\",sales_data[0:3])\n",
    "# print(\"\\nSample Data for 1st 3 Resturant: \",sales_data[3])"
   ]
  },
  {
   "cell_type": "code",
   "execution_count": null,
   "id": "96b88857",
   "metadata": {},
   "outputs": [
    {
     "name": "stdout",
     "output_type": "stream",
     "text": [
      "[     15  810000  940000 1085000 1240000]\n",
      "[ 810000  940000 1085000 1240000]\n"
     ]
    }
   ],
   "source": [
    "# Total Sales per year\n",
    "# print(sales_data[0:3, 0:5])\n",
    "print(np.sum(sales_data, axis=0))\n",
    "yearly_total = np.sum(sales_data[:, 1:], axis=0)\n",
    "\n",
    "# total_sales = np.sum(sales_data[:, 1:], axis=0)\n",
    "# print(\"\\nTotal Sales per Year (2021 to 2024): \", total_sales)"
   ]
  },
  {
   "cell_type": "code",
   "execution_count": null,
   "id": "c2e7979b",
   "metadata": {},
   "outputs": [],
   "source": [
    "# --------Easy Example-----------\n",
    "# for i in sales_data[0:3,1:5]:\n",
    "#     print(i)\n",
    "\n",
    "# print(sales_data[0:3,0:3])\n",
    "\n",
    "# print(\"Shaped: \", sales_data.shape)\n",
    "# for i in sales_data:\n",
    "#     print(i)\n",
    "\n",
    "# for i in range(5):\n",
    "#     print(sales_data[i])\n",
    "# print(sales_data[2:4])"
   ]
  },
  {
   "cell_type": "code",
   "execution_count": null,
   "id": "1f876940",
   "metadata": {},
   "outputs": [
    {
     "name": "stdout",
     "output_type": "stream",
     "text": [
      "450\n",
      "[120 150 180]\n",
      "[ 60 150 240]\n"
     ]
    }
   ],
   "source": [
    "# --------Easy Example-----------\n",
    "sales_data = np.array([\n",
    "    [10, 20, 30],\n",
    "    [40, 50, 60],\n",
    "    [70, 80, 90]\n",
    "])\n",
    "# print(10 + 20 + 30 + 40 + 50 + 60+ 70 + 80 + 90)\n",
    "print(np.sum(sales_data)) # same \n",
    "print(np.sum(sales_data, axis=0))\n",
    "print(np.sum(sales_data, axis=1))\n",
    "\n",
    "# axis=0 → columns remain, rows combine (top to bottom sum)\n",
    "# axis=1 → rows remain, columns combine (left to right sum)\n"
   ]
  }
 ],
 "metadata": {
  "kernelspec": {
   "display_name": "Python 3",
   "language": "python",
   "name": "python3"
  },
  "language_info": {
   "codemirror_mode": {
    "name": "ipython",
    "version": 3
   },
   "file_extension": ".py",
   "mimetype": "text/x-python",
   "name": "python",
   "nbconvert_exporter": "python",
   "pygments_lexer": "ipython3",
   "version": "3.11.4"
  }
 },
 "nbformat": 4,
 "nbformat_minor": 5
}
