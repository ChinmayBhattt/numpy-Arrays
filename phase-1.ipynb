{
 "cells": [
  {
   "cell_type": "markdown",
   "id": "84ddb23d",
   "metadata": {},
   "source": [
    "## Numpy Array & Basics "
   ]
  },
  {
   "cell_type": "code",
   "execution_count": 1,
   "id": "062a89fc",
   "metadata": {},
   "outputs": [],
   "source": [
    "import numpy as np\n"
   ]
  },
  {
   "cell_type": "markdown",
   "id": "75bab2eb",
   "metadata": {},
   "source": [
    "## Creating Array from List"
   ]
  },
  {
   "cell_type": "code",
   "execution_count": 6,
   "id": "2fa18b7b",
   "metadata": {},
   "outputs": [
    {
     "name": "stdout",
     "output_type": "stream",
     "text": [
      "1D Array:  [1 2 3]\n",
      "2D Array:  [[1 2 3]\n",
      " [4 5 6]]\n"
     ]
    }
   ],
   "source": [
    "arr_1d = np.array([1,2,3])\n",
    "print(\"1D Array: \",arr_1d)\n",
    "\n",
    "arr_2d = np.array([[1,2,3], [4,5,6]])\n",
    "print(\"2D Array: \", arr_2d)"
   ]
  },
  {
   "cell_type": "markdown",
   "id": "9913d477",
   "metadata": {},
   "source": [
    "## List Vs Numpy"
   ]
  },
  {
   "cell_type": "code",
   "execution_count": null,
   "id": "d5bdb979",
   "metadata": {},
   "outputs": [
    {
     "name": "stdout",
     "output_type": "stream",
     "text": [
      "Python Multiplication:  [1, 2, 3, 1, 2, 3]\n",
      "Python Array Multiplication:  [2 4 6]\n",
      "\n",
      " List operation time:  0.19561982154846191\n"
     ]
    }
   ],
   "source": [
    "py_list = [1,2,3]\n",
    "print(\"Python Multiplication: \", py_list * 2)\n",
    "\n",
    "np_array = np.array([1,2,3]) #element wise multiplication\n",
    "print(\"Python Array Multiplication: \", np_array * 2)\n",
    "\n",
    "import time\n",
    "start = time.time()\n",
    "py_list = [i*2 for i in range(1000000)]\n",
    "print(\"\\n List operation time: \", time.time() - start)\n",
    "start = time.time()\n",
    "# np_array = np.array()\n",
    "np_array = np.arange(1000000) * 2\n",
    "print(\"\\n Numpy operation time: \", time.time() - start)"
   ]
  }
 ],
 "metadata": {
  "kernelspec": {
   "display_name": "venv",
   "language": "python",
   "name": "python3"
  },
  "language_info": {
   "codemirror_mode": {
    "name": "ipython",
    "version": 3
   },
   "file_extension": ".py",
   "mimetype": "text/x-python",
   "name": "python",
   "nbconvert_exporter": "python",
   "pygments_lexer": "ipython3",
   "version": "3.12.4"
  }
 },
 "nbformat": 4,
 "nbformat_minor": 5
}
