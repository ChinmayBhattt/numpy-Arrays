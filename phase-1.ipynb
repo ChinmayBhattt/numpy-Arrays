{
 "cells": [
  {
   "cell_type": "markdown",
   "id": "84ddb23d",
   "metadata": {},
   "source": [
    "## Numpy Array & Basics "
   ]
  },
  {
   "cell_type": "code",
   "execution_count": 1,
   "id": "062a89fc",
   "metadata": {},
   "outputs": [],
   "source": [
    "import numpy as np\n"
   ]
  },
  {
   "cell_type": "markdown",
   "id": "75bab2eb",
   "metadata": {},
   "source": [
    "## Creating Array from List"
   ]
  },
  {
   "cell_type": "code",
   "execution_count": 6,
   "id": "2fa18b7b",
   "metadata": {},
   "outputs": [
    {
     "name": "stdout",
     "output_type": "stream",
     "text": [
      "1D Array:  [1 2 3]\n",
      "2D Array:  [[1 2 3]\n",
      " [4 5 6]]\n"
     ]
    }
   ],
   "source": [
    "arr_1d = np.array([1,2,3])\n",
    "print(\"1D Array: \",arr_1d)\n",
    "\n",
    "arr_2d = np.array([[1,2,3], [4,5,6]])\n",
    "print(\"2D Array: \", arr_2d)"
   ]
  },
  {
   "cell_type": "markdown",
   "id": "9913d477",
   "metadata": {},
   "source": [
    "## List Vs Numpy"
   ]
  }
 ],
 "metadata": {
  "kernelspec": {
   "display_name": "venv",
   "language": "python",
   "name": "python3"
  },
  "language_info": {
   "codemirror_mode": {
    "name": "ipython",
    "version": 3
   },
   "file_extension": ".py",
   "mimetype": "text/x-python",
   "name": "python",
   "nbconvert_exporter": "python",
   "pygments_lexer": "ipython3",
   "version": "3.12.4"
  }
 },
 "nbformat": 4,
 "nbformat_minor": 5
}
