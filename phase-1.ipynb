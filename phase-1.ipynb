{
 "cells": [
  {
   "cell_type": "markdown",
   "id": "84ddb23d",
   "metadata": {},
   "source": [
    "## Numpy Array & Basics "
   ]
  },
  {
   "cell_type": "code",
   "execution_count": 4,
   "id": "062a89fc",
   "metadata": {},
   "outputs": [],
   "source": [
    "# No need to import numpy again as it is already used in the cells below.\n",
    "import numpy as np\n"
   ]
  },
  {
   "cell_type": "markdown",
   "id": "75bab2eb",
   "metadata": {},
   "source": [
    "## Creating Array from List"
   ]
  },
  {
   "cell_type": "code",
   "execution_count": 6,
   "id": "2fa18b7b",
   "metadata": {},
   "outputs": [
    {
     "name": "stdout",
     "output_type": "stream",
     "text": [
      "1D Array:  [1 2 3]\n",
      "2D Array:  [[1 2 3]\n",
      " [4 5 6]]\n"
     ]
    }
   ],
   "source": [
    "arr_1d = np.array([1,2,3])\n",
    "print(\"1D Array: \",arr_1d)\n",
    "\n",
    "arr_2d = np.array([[1,2,3], [4,5,6]])\n",
    "print(\"2D Array: \", arr_2d)"
   ]
  },
  {
   "cell_type": "markdown",
   "id": "9913d477",
   "metadata": {},
   "source": [
    "## List Vs Numpy"
   ]
  },
  {
   "cell_type": "code",
   "execution_count": null,
   "id": "d5bdb979",
   "metadata": {},
   "outputs": [
    {
     "name": "stdout",
     "output_type": "stream",
     "text": [
      "Python Multiplication:  [1, 2, 3, 1, 2, 3]\n",
      "Python Array Multiplication:  [2 4 6]\n",
      "\n",
      " List operation time:  0.19561982154846191\n"
     ]
    }
   ],
   "source": [
    "py_list = [1,2,3]\n",
    "print(\"Python Multiplication: \", py_list * 2)\n",
    "\n",
    "np_array = np.array([1,2,3]) #element wise multiplication\n",
    "print(\"Python Array Multiplication: \", np_array * 2)\n",
    "\n",
    "import time\n",
    "start = time.time()\n",
    "py_list = [i*2 for i in range(1000000)]\n",
    "print(\"\\n List operation time: \", time.time() - start)\n",
    "start = time.time()\n",
    "# np_array = np.array()\n",
    "np_array = np.arange(1000000) * 2\n",
    "print(\"\\n Numpy operation time: \", time.time() - start)"
   ]
  },
  {
   "cell_type": "markdown",
   "id": "dc23dcfe",
   "metadata": {},
   "source": [
    "### Creating Array from Scratch"
   ]
  },
  {
   "cell_type": "code",
   "execution_count": null,
   "id": "3b0a8553",
   "metadata": {},
   "outputs": [],
   "source": [
    "zeros = np.zeros((3,4)) # 3 => rows, 4 => Colm\n",
    "print(\"\\nZeros Array: \\n\",zeros)\n",
    "\n",
    "one = np.ones((2,3))\n",
    "print(\"\\nOnes Array: \\n\",one)\n",
    "\n",
    "#constant Values Array\n",
    "\n",
    "full = np.full((2,2,), 7)\n",
    "print(\"\\nFull Array: \\n\",full)\n",
    "\n",
    "random = np.random.random(((2,3)))\n",
    "print(\"\\nRandom Array: \\n\",random)\n",
    "\n",
    "sequence = np.arange(0, 10, 2)\n",
    "print(\"\\nSequence: \",sequence)\n"
   ]
  },
  {
   "cell_type": "markdown",
   "id": "08112bd9",
   "metadata": {},
   "source": [
    "### Vector , Matrix & Tensor"
   ]
  },
  {
   "cell_type": "code",
   "execution_count": null,
   "id": "36694033",
   "metadata": {},
   "outputs": [],
   "source": [
    "vector = np.array([1,2,3])\n",
    "\n",
    "matrix = np.array([[1,2,3],\n",
    "                   [4,5,6]])\n",
    "print(\"\\nMatrix: \\n\",matrix)\n",
    "\n",
    "tensor = np.array([[[1,2], [4,5],\n",
    "                    [6,7], [8,9]]])\n",
    "print(\"\\nTensor: \\n\",tensor)\n"
   ]
  },
  {
   "cell_type": "markdown",
   "id": "8fa78657",
   "metadata": {},
   "source": [
    "### Array Properties"
   ]
  },
  {
   "cell_type": "code",
   "execution_count": 47,
   "id": "72e5582f",
   "metadata": {},
   "outputs": [
    {
     "name": "stdout",
     "output_type": "stream",
     "text": [
      "Shape:  (2, 3)\n",
      "Dimention:  2\n",
      "Size:  6\n",
      "Data Type:  int64\n"
     ]
    }
   ],
   "source": [
    "arr = np.array([[1,2,3],\n",
    "               [4,5,6]])\n",
    "print(\"Shape: \", arr.shape)\n",
    "print(\"Dimention: \", arr.ndim) #Dimentions\n",
    "print(\"Size: \", arr.size) \n",
    "print(\"Data Type: \", arr.dtype) "
   ]
  },
  {
   "cell_type": "markdown",
   "id": "44d6df5c",
   "metadata": {},
   "source": [
    "### Array Reshaping"
   ]
  },
  {
   "cell_type": "code",
   "execution_count": 59,
   "id": "943f94ad",
   "metadata": {},
   "outputs": [
    {
     "name": "stdout",
     "output_type": "stream",
     "text": [
      "Original Array:  [ 0  1  2  3  4  5  6  7  8  9 10 11]\n",
      "\n",
      " Reshaped Array: \n",
      " [[ 0  1  2  3]\n",
      " [ 4  5  6  7]\n",
      " [ 8  9 10 11]]\n",
      "\n",
      "flattenend: \n",
      " [ 0  1  2  3  4  5  6  7  8  9 10 11]\n",
      "\n",
      "Raveled: \n",
      " [ 0  1  2  3  4  5  6  7  8  9 10 11]\n",
      "\n",
      "Transpose: \n",
      " [[ 0  4  8]\n",
      " [ 1  5  9]\n",
      " [ 2  6 10]\n",
      " [ 3  7 11]]\n"
     ]
    }
   ],
   "source": [
    "arr = np.arange(12)\n",
    "print(\"Original Array: \",arr)\n",
    "\n",
    "reshape = arr.reshape((3,4))\n",
    "print(\"\\n Reshaped Array: \\n\",reshape)\n",
    "\n",
    "flattenend = reshape.flatten() # return copy \n",
    "print(\"\\nflattenend: \\n\",flattenend)\n",
    "\n",
    "# Ravel (returns view, instead of copy): return original\n",
    "raveled = reshape.ravel()\n",
    "print(\"\\nRaveled: \\n\",raveled)\n",
    "\n",
    "# Transpose\n",
    "\n",
    "transpose = reshape.transpose()\n",
    "print(\"\\nTranspose: \\n\",transpose)\n"
   ]
  }
 ],
 "metadata": {
  "kernelspec": {
   "display_name": "Python 3 (ipykernel)",
   "language": "python",
   "name": "python3"
  },
  "language_info": {
   "codemirror_mode": {
    "name": "ipython",
    "version": 3
   },
   "file_extension": ".py",
   "mimetype": "text/x-python",
   "name": "python",
   "nbconvert_exporter": "python",
   "pygments_lexer": "ipython3",
   "version": "3.12.4"
  }
 },
 "nbformat": 4,
 "nbformat_minor": 5
}
