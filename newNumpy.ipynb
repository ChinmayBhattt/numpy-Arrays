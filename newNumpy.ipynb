{
 "cells": [
  {
   "cell_type": "code",
   "execution_count": 1,
   "id": "e91598b4-7052-45f9-a123-e08a41da60a3",
   "metadata": {},
   "outputs": [],
   "source": [
    "import numpy as np"
   ]
  },
  {
   "cell_type": "code",
   "execution_count": 2,
   "id": "898627e3-fae9-4407-8e76-2d781923cc72",
   "metadata": {},
   "outputs": [
    {
     "data": {
      "text/plain": [
       "array([1, 2, 3, 4, 5])"
      ]
     },
     "execution_count": 2,
     "metadata": {},
     "output_type": "execute_result"
    }
   ],
   "source": [
    "lst = [1,2,3,4,5]\n",
    "np.array(lst)"
   ]
  },
  {
   "cell_type": "code",
   "execution_count": 3,
   "id": "697d2865-3841-4ff9-82a8-e33a413ac386",
   "metadata": {},
   "outputs": [
    {
     "data": {
      "text/plain": [
       "[1, 2, 3, 4, 5]"
      ]
     },
     "execution_count": 3,
     "metadata": {},
     "output_type": "execute_result"
    }
   ],
   "source": [
    "lst"
   ]
  },
  {
   "cell_type": "code",
   "execution_count": 4,
   "id": "8506956b-755e-47df-8b6a-012259d02147",
   "metadata": {},
   "outputs": [],
   "source": [
    "arr = np.array(lst)"
   ]
  },
  {
   "cell_type": "code",
   "execution_count": 5,
   "id": "f009d693-95a9-4021-af58-d320599c782e",
   "metadata": {},
   "outputs": [
    {
     "data": {
      "text/plain": [
       "array([1, 2, 3, 4, 5])"
      ]
     },
     "execution_count": 5,
     "metadata": {},
     "output_type": "execute_result"
    }
   ],
   "source": [
    "arr"
   ]
  },
  {
   "cell_type": "code",
   "execution_count": 12,
   "id": "59be4b78-cddf-475d-b6f9-c64159ad2678",
   "metadata": {},
   "outputs": [
    {
     "data": {
      "text/plain": [
       "numpy.ndarray"
      ]
     },
     "execution_count": 12,
     "metadata": {},
     "output_type": "execute_result"
    }
   ],
   "source": [
    "type(arr)"
   ]
  },
  {
   "cell_type": "code",
   "execution_count": 13,
   "id": "e737896e-6d9e-4b1e-ba4b-289e72205e58",
   "metadata": {},
   "outputs": [
    {
     "data": {
      "text/plain": [
       "(5,)"
      ]
     },
     "execution_count": 13,
     "metadata": {},
     "output_type": "execute_result"
    }
   ],
   "source": [
    "arr.shape"
   ]
  },
  {
   "cell_type": "markdown",
   "id": "c4ee4dfb-0a03-48da-bc9e-755823ef1306",
   "metadata": {},
   "source": [
    "### rows and columns"
   ]
  },
  {
   "cell_type": "code",
   "execution_count": 18,
   "id": "8fef3afd-6f5a-4d60-80b9-dfe3373fc63a",
   "metadata": {},
   "outputs": [],
   "source": [
    "lst1 = [1,2,3,4,5]\n",
    "lst2 = [6,7,8,9,10]\n",
    "lst3 = [2,4,6,8,12]"
   ]
  },
  {
   "cell_type": "code",
   "execution_count": 21,
   "id": "05b06890-807e-4900-88e9-f6863f1af1a3",
   "metadata": {},
   "outputs": [],
   "source": [
    "# arr1 = np.array((lst1,lst2,lst3))\n",
    "arr1 = np.array([lst1,lst2,lst])"
   ]
  },
  {
   "cell_type": "code",
   "execution_count": 22,
   "id": "e803d31c-aa59-44dd-90ba-ad9a8a61cdc9",
   "metadata": {},
   "outputs": [
    {
     "data": {
      "text/plain": [
       "(3, 5)"
      ]
     },
     "execution_count": 22,
     "metadata": {},
     "output_type": "execute_result"
    }
   ],
   "source": [
    "arr1.shape"
   ]
  },
  {
   "cell_type": "code",
   "execution_count": 23,
   "id": "38a47b2e-b123-475a-bce7-4363db949d1a",
   "metadata": {},
   "outputs": [
    {
     "data": {
      "text/plain": [
       "array([[ 1,  2,  3,  4,  5],\n",
       "       [ 6,  7,  8,  9, 10],\n",
       "       [ 1,  2,  3,  4,  5]])"
      ]
     },
     "execution_count": 23,
     "metadata": {},
     "output_type": "execute_result"
    }
   ],
   "source": [
    "arr1"
   ]
  },
  {
   "cell_type": "markdown",
   "id": "86a2a8e4-1c4c-484f-a02d-f8a6fd5de27f",
   "metadata": {},
   "source": [
    "### Indexing"
   ]
  },
  {
   "cell_type": "code",
   "execution_count": 37,
   "id": "54f799ea-934d-47b7-a341-df20c4183d9f",
   "metadata": {},
   "outputs": [],
   "source": [
    "ar = np.array([1,2,3,4,5])"
   ]
  },
  {
   "cell_type": "code",
   "execution_count": 38,
   "id": "887d6c5c-5532-4c95-80a5-9dd9ad4746fd",
   "metadata": {},
   "outputs": [
    {
     "data": {
      "text/plain": [
       "4"
      ]
     },
     "execution_count": 38,
     "metadata": {},
     "output_type": "execute_result"
    }
   ],
   "source": [
    "ar[3]"
   ]
  },
  {
   "cell_type": "code",
   "execution_count": 39,
   "id": "88dd4882-6f92-4451-9e50-009a3f739781",
   "metadata": {},
   "outputs": [],
   "source": [
    "ar[2] = 50"
   ]
  },
  {
   "cell_type": "code",
   "execution_count": 40,
   "id": "7429fb5d-c2bf-46ad-ab5f-9527d60c32a6",
   "metadata": {},
   "outputs": [
    {
     "data": {
      "text/plain": [
       "array([ 1,  2, 50,  4,  5])"
      ]
     },
     "execution_count": 40,
     "metadata": {},
     "output_type": "execute_result"
    }
   ],
   "source": [
    "ar"
   ]
  },
  {
   "cell_type": "code",
   "execution_count": 41,
   "id": "f5592dd2-883d-43a6-acf8-58f71c12d76f",
   "metadata": {},
   "outputs": [
    {
     "data": {
      "text/plain": [
       "array([ 2, 50,  4,  5])"
      ]
     },
     "execution_count": 41,
     "metadata": {},
     "output_type": "execute_result"
    }
   ],
   "source": [
    "ar[1:]"
   ]
  },
  {
   "cell_type": "code",
   "execution_count": 42,
   "id": "e75789f8-d12e-4b23-894d-d1c26a17ed6b",
   "metadata": {},
   "outputs": [
    {
     "data": {
      "text/plain": [
       "array([ 2, 50])"
      ]
     },
     "execution_count": 42,
     "metadata": {},
     "output_type": "execute_result"
    }
   ],
   "source": [
    "ar[1:3]"
   ]
  },
  {
   "cell_type": "code",
   "execution_count": 43,
   "id": "f3c48859-99f0-4c76-9321-9b966b3f41b4",
   "metadata": {},
   "outputs": [
    {
     "data": {
      "text/plain": [
       "5"
      ]
     },
     "execution_count": 43,
     "metadata": {},
     "output_type": "execute_result"
    }
   ],
   "source": [
    "ar[-1]"
   ]
  },
  {
   "cell_type": "code",
   "execution_count": 45,
   "id": "b48e038c-5a07-456b-8213-03d628fa9dff",
   "metadata": {},
   "outputs": [],
   "source": [
    "ar = np.array([1,2,3,4,5])"
   ]
  },
  {
   "cell_type": "code",
   "execution_count": 48,
   "id": "5d0594a7-f74a-44c8-a115-7de05053d8e6",
   "metadata": {},
   "outputs": [
    {
     "data": {
      "text/plain": [
       "array([], dtype=int64)"
      ]
     },
     "execution_count": 48,
     "metadata": {},
     "output_type": "execute_result"
    }
   ],
   "source": [
    "ar[:0]"
   ]
  },
  {
   "cell_type": "code",
   "execution_count": null,
   "id": "fdced101-92c8-44f7-99ec-f2607a795088",
   "metadata": {},
   "outputs": [],
   "source": []
  }
 ],
 "metadata": {
  "kernelspec": {
   "display_name": "Python 3 (ipykernel)",
   "language": "python",
   "name": "python3"
  },
  "language_info": {
   "codemirror_mode": {
    "name": "ipython",
    "version": 3
   },
   "file_extension": ".py",
   "mimetype": "text/x-python",
   "name": "python",
   "nbconvert_exporter": "python",
   "pygments_lexer": "ipython3",
   "version": "3.12.4"
  }
 },
 "nbformat": 4,
 "nbformat_minor": 5
}
