{
 "cells": [
  {
   "cell_type": "markdown",
   "id": "94966fa4",
   "metadata": {},
   "source": [
    "### Storing Image in Matrix and Converting Image in Dark Mode"
   ]
  },
  {
   "cell_type": "code",
   "execution_count": 1,
   "id": "115ddbfe",
   "metadata": {},
   "outputs": [],
   "source": [
    "import numpy as np\n",
    "import matplotlib.pyplot as plt"
   ]
  },
  {
   "cell_type": "code",
   "execution_count": 17,
   "id": "7f583c58",
   "metadata": {},
   "outputs": [
    {
     "name": "stdout",
     "output_type": "stream",
     "text": [
      "[[0. 0. 0. 0.]\n",
      " [0. 0. 0. 0.]\n",
      " [0. 0. 0. 0.]\n",
      " [0. 0. 0. 0.]]\n"
     ]
    }
   ],
   "source": [
    "array1 = np.array([[1,2,3], [4,5,6]])\n",
    "array2 = np.random.rand(3, 3)\n",
    "array3 = np.zeros((4, 4))\n",
    "print(array3)"
   ]
  },
  {
   "cell_type": "code",
   "execution_count": 18,
   "id": "f99c1560",
   "metadata": {},
   "outputs": [],
   "source": [
    "np.save('array1.npy',array1)\n",
    "np.save('array2.npy',array2)\n",
    "np.save('array3.npy',array3)"
   ]
  },
  {
   "cell_type": "code",
   "execution_count": 19,
   "id": "ff00f198",
   "metadata": {},
   "outputs": [
    {
     "name": "stdout",
     "output_type": "stream",
     "text": [
      "[[1 2 3]\n",
      " [4 5 6]]\n"
     ]
    }
   ],
   "source": [
    "loaded_array1 = np.load('array1.npy')\n",
    "print(loaded_array1)"
   ]
  },
  {
   "cell_type": "code",
   "execution_count": null,
   "id": "73e21eb0",
   "metadata": {},
   "outputs": [],
   "source": [
    "try:"
   ]
  }
 ],
 "metadata": {
  "kernelspec": {
   "display_name": "Python 3",
   "language": "python",
   "name": "python3"
  },
  "language_info": {
   "codemirror_mode": {
    "name": "ipython",
    "version": 3
   },
   "file_extension": ".py",
   "mimetype": "text/x-python",
   "name": "python",
   "nbconvert_exporter": "python",
   "pygments_lexer": "ipython3",
   "version": "3.11.4"
  }
 },
 "nbformat": 4,
 "nbformat_minor": 5
}
